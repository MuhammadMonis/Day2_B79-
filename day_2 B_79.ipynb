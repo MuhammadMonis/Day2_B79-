{
 "cells": [
  {
   "cell_type": "markdown",
   "id": "d6b76d7b",
   "metadata": {},
   "source": [
    "# Introduction to python programing .\n"
   ]
  },
  {
   "cell_type": "markdown",
   "id": "c3f53201",
   "metadata": {},
   "source": [
    "# Understanding the concept of variables in python"
   ]
  },
  {
   "cell_type": "code",
   "execution_count": 7,
   "id": "9ad52f7a",
   "metadata": {},
   "outputs": [],
   "source": [
    "x=2 \n",
    "y=3 \n",
    "z= x+y"
   ]
  },
  {
   "cell_type": "code",
   "execution_count": 8,
   "id": "698f82b6",
   "metadata": {},
   "outputs": [
    {
     "data": {
      "text/plain": [
       "5"
      ]
     },
     "execution_count": 8,
     "metadata": {},
     "output_type": "execute_result"
    }
   ],
   "source": [
    "z"
   ]
  },
  {
   "cell_type": "markdown",
   "id": "485f8a32",
   "metadata": {},
   "source": [
    "#Rules for declaring varibles in python"
   ]
  },
  {
   "cell_type": "markdown",
   "id": "c99bbd30",
   "metadata": {},
   "source": [
    "1. variable should not hae any Namespaces In BEtween\n",
    "2. Should't start with number but can have no. in between or at he end.\n",
    "3. shouldn't have any special character at all ? @ $ % &"
   ]
  },
  {
   "cell_type": "code",
   "execution_count": 9,
   "id": "dae4e6ec",
   "metadata": {},
   "outputs": [
    {
     "name": "stdout",
     "output_type": "stream",
     "text": [
      "The Zen of Python, by Tim Peters\n",
      "\n",
      "Beautiful is better than ugly.\n",
      "Explicit is better than implicit.\n",
      "Simple is better than complex.\n",
      "Complex is better than complicated.\n",
      "Flat is better than nested.\n",
      "Sparse is better than dense.\n",
      "Readability counts.\n",
      "Special cases aren't special enough to break the rules.\n",
      "Although practicality beats purity.\n",
      "Errors should never pass silently.\n",
      "Unless explicitly silenced.\n",
      "In the face of ambiguity, refuse the temptation to guess.\n",
      "There should be one-- and preferably only one --obvious way to do it.\n",
      "Although that way may not be obvious at first unless you're Dutch.\n",
      "Now is better than never.\n",
      "Although never is often better than *right* now.\n",
      "If the implementation is hard to explain, it's a bad idea.\n",
      "If the implementation is easy to explain, it may be a good idea.\n",
      "Namespaces are one honking great idea -- let's do more of those!\n"
     ]
    }
   ],
   "source": [
    "import this\n",
    "# THis is a RULe in the form of poem"
   ]
  },
  {
   "cell_type": "code",
   "execution_count": null,
   "id": "58f30366",
   "metadata": {},
   "outputs": [],
   "source": []
  },
  {
   "cell_type": "code",
   "execution_count": null,
   "id": "bd5e7faa",
   "metadata": {},
   "outputs": [],
   "source": []
  },
  {
   "cell_type": "code",
   "execution_count": null,
   "id": "45a2a98d",
   "metadata": {},
   "outputs": [],
   "source": []
  },
  {
   "cell_type": "code",
   "execution_count": 10,
   "id": "80b2c95c",
   "metadata": {},
   "outputs": [
    {
     "name": "stdout",
     "output_type": "stream",
     "text": [
      "Hello All I Am Learning Python\n"
     ]
    }
   ],
   "source": [
    "\n",
    "print(\"hello all I am learning python\".title())"
   ]
  },
  {
   "cell_type": "code",
   "execution_count": 11,
   "id": "3fd22fa7",
   "metadata": {},
   "outputs": [
    {
     "data": {
      "text/plain": [
       "'I HAVE INSTALLED ANACONDA'"
      ]
     },
     "execution_count": 11,
     "metadata": {},
     "output_type": "execute_result"
    }
   ],
   "source": [
    "\"I have installed anaconda\".upper() #as welll As .lower()"
   ]
  },
  {
   "cell_type": "code",
   "execution_count": 3,
   "id": "3f7c4313",
   "metadata": {},
   "outputs": [
    {
     "data": {
      "text/plain": [
       "'stop dreaming'"
      ]
     },
     "execution_count": 3,
     "metadata": {},
     "output_type": "execute_result"
    }
   ],
   "source": [
    "\"stop dreaming\""
   ]
  },
  {
   "cell_type": "code",
   "execution_count": 4,
   "id": "2fe3fd0a",
   "metadata": {},
   "outputs": [
    {
     "data": {
      "text/plain": [
       "'wake up to make the dream true'"
      ]
     },
     "execution_count": 4,
     "metadata": {},
     "output_type": "execute_result"
    }
   ],
   "source": [
    "\"wake up to make the dream true\""
   ]
  },
  {
   "cell_type": "code",
   "execution_count": 6,
   "id": "53e0ebce",
   "metadata": {},
   "outputs": [],
   "source": [
    "rules for determinig the variables"
   ]
  },
  {
   "cell_type": "markdown",
   "id": "6335e199",
   "metadata": {},
   "source": [
    "#  #Variables"
   ]
  },
  {
   "cell_type": "code",
   "execution_count": null,
   "id": "ee502d39",
   "metadata": {},
   "outputs": [],
   "source": [
    "A variable is a tmporary storage that can be changed FURTHER.\n",
    "Every variable is associated with data types."
   ]
  },
  {
   "cell_type": "markdown",
   "id": "ac7de9d9",
   "metadata": {},
   "source": [
    "# Data Types"
   ]
  },
  {
   "cell_type": "code",
   "execution_count": null,
   "id": "4d27cca1",
   "metadata": {},
   "outputs": [],
   "source": [
    "SEE YOU TOMORROW"
   ]
  },
  {
   "cell_type": "markdown",
   "id": "a0704a0f",
   "metadata": {},
   "source": [
    "# introductionn to data types"
   ]
  },
  {
   "cell_type": "code",
   "execution_count": null,
   "id": "4625abd3",
   "metadata": {},
   "outputs": [],
   "source": [
    "string----> str\n",
    "numbers ====> integers----> int , Float----> float\n",
    "lists--->list\n",
    "tuples----> tuple\n",
    "dictionaries----> dict"
   ]
  },
  {
   "cell_type": "markdown",
   "id": "8b3124b2",
   "metadata": {},
   "source": [
    "Classiifcatoin of data types \n",
    "1. Mutable => which we can edit /alter\n",
    "2.Immutable=> which we cannot edit/alter once declared"
   ]
  },
  {
   "cell_type": "markdown",
   "id": "c8db4dce",
   "metadata": {},
   "source": [
    "Introduction to String Data types\n",
    "definition:  Astring is a series of chaeracrters in a code between quotes('')or(\"\")\n",
    "Classificaton : It is classified as an immutable data type "
   ]
  },
  {
   "cell_type": "code",
   "execution_count": null,
   "id": "ed66f5ba",
   "metadata": {},
   "outputs": [],
   "source": [
    "singl e quotes ('')\n",
    "double qotes(\"\")"
   ]
  },
  {
   "cell_type": "code",
   "execution_count": 1,
   "id": "03985487",
   "metadata": {},
   "outputs": [
    {
     "data": {
      "text/plain": [
       "str"
      ]
     },
     "execution_count": 1,
     "metadata": {},
     "output_type": "execute_result"
    }
   ],
   "source": [
    "# Understanding the  string methods\n",
    "name = \"raoi\"\n",
    "name2 = 'avi'\n",
    "type(name)"
   ]
  },
  {
   "cell_type": "code",
   "execution_count": 2,
   "id": "05e8fbda",
   "metadata": {},
   "outputs": [
    {
     "data": {
      "text/plain": [
       "str"
      ]
     },
     "execution_count": 2,
     "metadata": {},
     "output_type": "execute_result"
    }
   ],
   "source": [
    "type(name2)"
   ]
  },
  {
   "cell_type": "code",
   "execution_count": 3,
   "id": "49459107",
   "metadata": {},
   "outputs": [
    {
     "name": "stdout",
     "output_type": "stream",
     "text": [
      "Avi\n"
     ]
    }
   ],
   "source": [
    "print(name2.title())"
   ]
  },
  {
   "cell_type": "code",
   "execution_count": 5,
   "id": "15ec1937",
   "metadata": {},
   "outputs": [
    {
     "name": "stdout",
     "output_type": "stream",
     "text": [
      "AVI\n"
     ]
    }
   ],
   "source": [
    "a=print(name2.upper())\n",
    "a"
   ]
  },
  {
   "cell_type": "code",
   "execution_count": 12,
   "id": "7dda46e8",
   "metadata": {},
   "outputs": [
    {
     "name": "stdout",
     "output_type": "stream",
     "text": [
      "None\n"
     ]
    }
   ],
   "source": [
    "print(a)\n",
    "b= \"ERY\""
   ]
  },
  {
   "cell_type": "code",
   "execution_count": 14,
   "id": "83d5efbf",
   "metadata": {},
   "outputs": [
    {
     "name": "stdout",
     "output_type": "stream",
     "text": [
      "ery\n"
     ]
    }
   ],
   "source": [
    "print(b.lower())"
   ]
  },
  {
   "cell_type": "code",
   "execution_count": 15,
   "id": "3621ac1e",
   "metadata": {},
   "outputs": [],
   "source": [
    "#.title(), .upper(), .lower() is a string function\n"
   ]
  },
  {
   "cell_type": "code",
   "execution_count": null,
   "id": "06c6ff6f",
   "metadata": {},
   "outputs": [],
   "source": []
  }
 ],
 "metadata": {
  "kernelspec": {
   "display_name": "Python 3 (ipykernel)",
   "language": "python",
   "name": "python3"
  },
  "language_info": {
   "codemirror_mode": {
    "name": "ipython",
    "version": 3
   },
   "file_extension": ".py",
   "mimetype": "text/x-python",
   "name": "python",
   "nbconvert_exporter": "python",
   "pygments_lexer": "ipython3",
   "version": "3.9.12"
  }
 },
 "nbformat": 4,
 "nbformat_minor": 5
}
